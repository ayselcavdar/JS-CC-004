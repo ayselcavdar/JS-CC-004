{
 "metadata": {
  "language_info": {
   "codemirror_mode": {
    "name": "ipython",
    "version": 3
   },
   "file_extension": ".py",
   "mimetype": "text/x-python",
   "name": "python",
   "nbconvert_exporter": "python",
   "pygments_lexer": "ipython3",
   "version": "3.7.6-final"
  },
  "orig_nbformat": 2,
  "kernelspec": {
   "name": "Python 3.7.6 64-bit ('base': conda)",
   "display_name": "Python 3.7.6 64-bit ('base': conda)",
   "metadata": {
    "interpreter": {
     "hash": "7969e2d402af0b7545bda0eb3df187ecc624bac72a8c45c1a25d9ecc321b2904"
    }
   }
  }
 },
 "nbformat": 4,
 "nbformat_minor": 2,
 "cells": [
  {
   "cell_type": "code",
   "execution_count": null,
   "metadata": {},
   "outputs": [],
   "source": [
    "test_list1 = [12, 14, 16] \n",
    "test_list2 = [11, 13, 17] \n",
    "  \n",
    "# printing original lists  \n",
    "print (\"The original list 1 is : \" + str(test_list1)) \n",
    "print (\"The original list 2 is : \" + str(test_list2)) \n",
    "  \n",
    "# using naive method  \n",
    "# to combine two sorted lists \n",
    "size_1 = len(test_list1) \n",
    "size_2 = len(test_list2) \n",
    "  \n",
    "res = [] \n",
    "i, j = 0, 0\n",
    "  \n",
    "while i < size_1 and j < size_2: \n",
    "    if test_list1[i] < test_list2[j]: \n",
    "      res.append(test_list1[i]) \n",
    "      i += 1\n",
    "  \n",
    "    else: \n",
    "      res.append(test_list2[j]) \n",
    "      j += 1\n",
    "  \n",
    "res = res + test_list1[i:] + test_list2[j:] \n",
    "  \n",
    "# printing result \n",
    "print (\"The combined sorted list is : \" + str(res)) "
   ]
  },
  {
   "cell_type": "code",
   "execution_count": null,
   "metadata": {},
   "outputs": [],
   "source": []
  }
 ]
}